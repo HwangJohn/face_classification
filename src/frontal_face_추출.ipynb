{
 "cells": [
  {
   "cell_type": "code",
   "execution_count": 14,
   "metadata": {},
   "outputs": [],
   "source": [
    "import pandas as pd\n",
    "from glob import glob\n",
    "import os\n",
    "import ipywidgets\n",
    "import cv2\n",
    "import matplotlib.pyplot as plt\n",
    "import ast\n",
    "import numpy as np"
   ]
  },
  {
   "cell_type": "code",
   "execution_count": 11,
   "metadata": {},
   "outputs": [],
   "source": [
    "\n",
    "p1_frontal_df = pd.read_csv('../datasets/kor_multi_modal/prep_part1_frontal_face.csv')\n",
    "p2_frontal_df = pd.read_csv('../datasets/kor_multi_modal/prep_part2_frontal_face.csv')\n",
    "p3_frontal_df = pd.read_csv('../datasets/kor_multi_modal/prep_part3_frontal_face.csv')\n",
    "p4_frontal_df = pd.read_csv('../datasets/kor_multi_modal/prep_part4_frontal_face.csv')\n",
    "p5_frontal_df = pd.read_csv('../datasets/kor_multi_modal/prep_part5_frontal_face.csv')\n",
    "\n",
    "dataframe = [p1_frontal_df, p2_frontal_df, p3_frontal_df, p4_frontal_df, p5_frontal_df]\n",
    "p_frontal_df = pd.concat(dataframe)"
   ]
  },
  {
   "cell_type": "code",
   "execution_count": 28,
   "metadata": {},
   "outputs": [],
   "source": [
    "p_frontal_df = p_frontal_df.reset_index(drop=True)"
   ]
  },
  {
   "cell_type": "code",
   "execution_count": 57,
   "metadata": {},
   "outputs": [
    {
     "data": {
      "text/html": [
       "<div>\n",
       "<style scoped>\n",
       "    .dataframe tbody tr th:only-of-type {\n",
       "        vertical-align: middle;\n",
       "    }\n",
       "\n",
       "    .dataframe tbody tr th {\n",
       "        vertical-align: top;\n",
       "    }\n",
       "\n",
       "    .dataframe thead th {\n",
       "        text-align: right;\n",
       "    }\n",
       "</style>\n",
       "<table border=\"1\" class=\"dataframe\">\n",
       "  <thead>\n",
       "    <tr style=\"text-align: right;\">\n",
       "      <th></th>\n",
       "      <th>emotion</th>\n",
       "      <th>face_rect</th>\n",
       "      <th>img_path</th>\n",
       "    </tr>\n",
       "  </thead>\n",
       "  <tbody>\n",
       "    <tr>\n",
       "      <th>0</th>\n",
       "      <td>neutral</td>\n",
       "      <td>{'max_y': 809, 'max_x': 1137, 'min_x': 720, 'm...</td>\n",
       "      <td>part1/KETI_MULTIMODAL_0000000375/KETI_MULTIMOD...</td>\n",
       "    </tr>\n",
       "    <tr>\n",
       "      <th>1</th>\n",
       "      <td>neutral</td>\n",
       "      <td>{'max_y': 809, 'max_x': 1137, 'min_x': 720, 'm...</td>\n",
       "      <td>part1/KETI_MULTIMODAL_0000000375/KETI_MULTIMOD...</td>\n",
       "    </tr>\n",
       "  </tbody>\n",
       "</table>\n",
       "</div>"
      ],
      "text/plain": [
       "   emotion                                          face_rect  \\\n",
       "0  neutral  {'max_y': 809, 'max_x': 1137, 'min_x': 720, 'm...   \n",
       "1  neutral  {'max_y': 809, 'max_x': 1137, 'min_x': 720, 'm...   \n",
       "\n",
       "                                            img_path  \n",
       "0  part1/KETI_MULTIMODAL_0000000375/KETI_MULTIMOD...  \n",
       "1  part1/KETI_MULTIMODAL_0000000375/KETI_MULTIMOD...  "
      ]
     },
     "execution_count": 57,
     "metadata": {},
     "output_type": "execute_result"
    }
   ],
   "source": [
    "p_frontal_df.head(2)"
   ]
  },
  {
   "cell_type": "code",
   "execution_count": 33,
   "metadata": {},
   "outputs": [],
   "source": [
    "def prep_f(img_path):\n",
    "    return \"/\".join(img_path.split(\"/\")[-5:])\n",
    "\n",
    "img_pathes = p_frontal_df['img_path'].map(lambda x : prep_f(x))\n",
    "# p_frontal_df['img_path'][:100].map(lambda x : prep_f(x))"
   ]
  },
  {
   "cell_type": "code",
   "execution_count": 34,
   "metadata": {},
   "outputs": [],
   "source": [
    "p_frontal_df['img_path'] = img_pathes"
   ]
  },
  {
   "cell_type": "code",
   "execution_count": 38,
   "metadata": {
    "scrolled": true
   },
   "outputs": [
    {
     "data": {
      "text/plain": [
       "'part1/KETI_MULTIMODAL_0000000375/KETI_MULTIMODAL_0000000375/KETI_SHOT_0000123017/KM_0000000634.jpg'"
      ]
     },
     "execution_count": 38,
     "metadata": {},
     "output_type": "execute_result"
    }
   ],
   "source": [
    "p_frontal_df['img_path'][0]"
   ]
  },
  {
   "cell_type": "code",
   "execution_count": 53,
   "metadata": {},
   "outputs": [],
   "source": [
    "BASE_PATH='../../../datasets/emotion/multi-modal'"
   ]
  },
  {
   "cell_type": "code",
   "execution_count": 64,
   "metadata": {},
   "outputs": [
    {
     "data": {
      "application/vnd.jupyter.widget-view+json": {
       "model_id": "0d29f52e0ad7412e990885b924a067a2",
       "version_major": 2,
       "version_minor": 0
      },
      "text/plain": [
       "interactive(children=(IntSlider(value=0, description='x', max=1157797), Output()), _dom_classes=('widget-inter…"
      ]
     },
     "metadata": {},
     "output_type": "display_data"
    },
    {
     "data": {
      "text/plain": [
       "<function __main__.f(x)>"
      ]
     },
     "execution_count": 64,
     "metadata": {},
     "output_type": "execute_result"
    }
   ],
   "source": [
    "def f(x):\n",
    "    img_path = p_frontal_df['img_path'][x]\n",
    "    img_path = BASE_PATH + \"/\" + img_path \n",
    "    img = cv2.imread(img_path)\n",
    "    img = cv2.cvtColor(img, cv2.COLOR_BGR2RGB)\n",
    "    print(img_path)\n",
    "    face_rect_dict = ast.literal_eval(p_frontal_df['face_rect'][x])\n",
    "    max_y = face_rect_dict['max_y']\n",
    "    max_x = face_rect_dict['max_x']\n",
    "    min_y = face_rect_dict['min_y']\n",
    "    min_x = face_rect_dict['min_x']\n",
    "    cv2.rectangle(img, (min_x, min_y), (max_x, max_y), [0, 255, 0], 3)\n",
    "    print(p_frontal_df['emotion'][x])\n",
    "    plt.imshow(img)\n",
    "    \n",
    "ipywidgets.interact(f, x = ipywidgets.IntSlider(0, min=0, max=p_frontal_df.shape[0]-1, step=1))"
   ]
  },
  {
   "cell_type": "code",
   "execution_count": 52,
   "metadata": {},
   "outputs": [
    {
     "name": "stdout",
     "output_type": "stream",
     "text": [
      "download.sh  part1\tpart2\t   part3      part4\t part5\r\n",
      "nohup.out    part1.zip\tpart2.zip  part3.zip  part4.zip  part5.zip\r\n"
     ]
    }
   ],
   "source": [
    "!ls ../../../datasets/emotion/multi-modal/"
   ]
  },
  {
   "cell_type": "markdown",
   "metadata": {},
   "source": [
    "# Check frontal face\n",
    "\n",
    "## 데이터셋 벨런싱 검증 : OK\n",
    "## shuffle True 셋팅여부 : OK"
   ]
  },
  {
   "cell_type": "code",
   "execution_count": 2,
   "metadata": {},
   "outputs": [],
   "source": [
    "frontal_df = pd.read_csv(\"../datasets/kor_multi_modal/prep_col_all_mdf_frontal_face.csv\")"
   ]
  },
  {
   "cell_type": "code",
   "execution_count": 32,
   "metadata": {},
   "outputs": [
    {
     "data": {
      "text/html": [
       "<div>\n",
       "<style scoped>\n",
       "    .dataframe tbody tr th:only-of-type {\n",
       "        vertical-align: middle;\n",
       "    }\n",
       "\n",
       "    .dataframe tbody tr th {\n",
       "        vertical-align: top;\n",
       "    }\n",
       "\n",
       "    .dataframe thead th {\n",
       "        text-align: right;\n",
       "    }\n",
       "</style>\n",
       "<table border=\"1\" class=\"dataframe\">\n",
       "  <thead>\n",
       "    <tr style=\"text-align: right;\">\n",
       "      <th></th>\n",
       "      <th>pixels</th>\n",
       "      <th>Usage</th>\n",
       "    </tr>\n",
       "    <tr>\n",
       "      <th>emotion</th>\n",
       "      <th></th>\n",
       "      <th></th>\n",
       "    </tr>\n",
       "  </thead>\n",
       "  <tbody>\n",
       "    <tr>\n",
       "      <th>0</th>\n",
       "      <td>18357</td>\n",
       "      <td>0</td>\n",
       "    </tr>\n",
       "    <tr>\n",
       "      <th>1</th>\n",
       "      <td>18357</td>\n",
       "      <td>0</td>\n",
       "    </tr>\n",
       "    <tr>\n",
       "      <th>2</th>\n",
       "      <td>18357</td>\n",
       "      <td>0</td>\n",
       "    </tr>\n",
       "    <tr>\n",
       "      <th>3</th>\n",
       "      <td>18357</td>\n",
       "      <td>0</td>\n",
       "    </tr>\n",
       "    <tr>\n",
       "      <th>4</th>\n",
       "      <td>18357</td>\n",
       "      <td>0</td>\n",
       "    </tr>\n",
       "    <tr>\n",
       "      <th>5</th>\n",
       "      <td>18357</td>\n",
       "      <td>0</td>\n",
       "    </tr>\n",
       "    <tr>\n",
       "      <th>6</th>\n",
       "      <td>18357</td>\n",
       "      <td>0</td>\n",
       "    </tr>\n",
       "  </tbody>\n",
       "</table>\n",
       "</div>"
      ],
      "text/plain": [
       "         pixels  Usage\n",
       "emotion               \n",
       "0         18357      0\n",
       "1         18357      0\n",
       "2         18357      0\n",
       "3         18357      0\n",
       "4         18357      0\n",
       "5         18357      0\n",
       "6         18357      0"
      ]
     },
     "execution_count": 32,
     "metadata": {},
     "output_type": "execute_result"
    }
   ],
   "source": [
    "frontal_df.groupby('emotion').count()"
   ]
  },
  {
   "cell_type": "code",
   "execution_count": 34,
   "metadata": {},
   "outputs": [
    {
     "data": {
      "text/plain": [
       "(128499, (128499, 3))"
      ]
     },
     "execution_count": 34,
     "metadata": {},
     "output_type": "execute_result"
    }
   ],
   "source": [
    "18357 * 7, frontal_df.shape"
   ]
  },
  {
   "cell_type": "code",
   "execution_count": 7,
   "metadata": {},
   "outputs": [],
   "source": [
    "len_df = frontal_df.shape[0]"
   ]
  },
  {
   "cell_type": "code",
   "execution_count": 29,
   "metadata": {},
   "outputs": [],
   "source": [
    "emotion_map = {\n",
    "    0:'anger'\n",
    "    ,1:'disgust, contempt'\n",
    "    ,2:'afraid'\n",
    "    ,3:'happiness'\n",
    "    ,4:'sadness'\n",
    "    ,5:'surprise'\n",
    "    ,6:'neutral'\n",
    "}"
   ]
  },
  {
   "cell_type": "code",
   "execution_count": 50,
   "metadata": {},
   "outputs": [
    {
     "data": {
      "application/vnd.jupyter.widget-view+json": {
       "model_id": "8bfd5e0a1644411bae8c1177b6b48a6f",
       "version_major": 2,
       "version_minor": 0
      },
      "text/plain": [
       "interactive(children=(IntSlider(value=1, description='x', max=128498, min=1), Output()), _dom_classes=('widget…"
      ]
     },
     "metadata": {},
     "output_type": "display_data"
    },
    {
     "data": {
      "text/plain": [
       "<function __main__.f(x)>"
      ]
     },
     "execution_count": 50,
     "metadata": {},
     "output_type": "execute_result"
    }
   ],
   "source": [
    "def f(x):\n",
    "    row = frontal_df.iloc[x]\n",
    "    pixels = row['pixels']\n",
    "    emotion = row['emotion']\n",
    "    img = np.asarray(pixels.split(\" \"), dtype=np.int16).reshape((48, 48))\n",
    "    plt.imshow(img, 'gray')\n",
    "    print(emotion_map[emotion])\n",
    "    \n",
    "ipywidgets.interact(f, x = ipywidgets.IntSlider(0, 1, len_df-1, 1))"
   ]
  },
  {
   "cell_type": "markdown",
   "metadata": {},
   "source": [
    "## fer데이터와 비교: 거의 유사하거나 kor데이터의 Quality가 더 좋아보임"
   ]
  },
  {
   "cell_type": "code",
   "execution_count": 36,
   "metadata": {},
   "outputs": [],
   "source": [
    "fer_df = pd.read_csv(\"../datasets/fer2013/fer2013.csv\")"
   ]
  },
  {
   "cell_type": "code",
   "execution_count": 38,
   "metadata": {},
   "outputs": [
    {
     "data": {
      "application/vnd.jupyter.widget-view+json": {
       "model_id": "58e5d00f79dd4ea5bf20ba84aa689cf9",
       "version_major": 2,
       "version_minor": 0
      },
      "text/plain": [
       "interactive(children=(IntSlider(value=1, description='x', max=128498, min=1), Output()), _dom_classes=('widget…"
      ]
     },
     "metadata": {},
     "output_type": "display_data"
    },
    {
     "data": {
      "text/plain": [
       "<function __main__.fer_f(x)>"
      ]
     },
     "execution_count": 38,
     "metadata": {},
     "output_type": "execute_result"
    }
   ],
   "source": [
    "def fer_f(x):\n",
    "    row = fer_df.iloc[x]\n",
    "    pixels = row['pixels']\n",
    "    emotion = row['emotion']\n",
    "    img = np.asarray(pixels.split(\" \"), dtype=np.int16).reshape((48, 48))\n",
    "    plt.imshow(img, 'gray')\n",
    "    print(emotion_map[emotion])\n",
    "    \n",
    "ipywidgets.interact(fer_f, x = ipywidgets.IntSlider(0, 1, len_df-1, 1))"
   ]
  },
  {
   "cell_type": "markdown",
   "metadata": {},
   "source": [
    "## Image batch generator 확인\n",
    "### csv파일 읽어올때 shuffle이 안되고 있었음\n",
    "    => pandas .read_csv() 에서 sample()으로 shuffle되게 변경"
   ]
  },
  {
   "cell_type": "code",
   "execution_count": 42,
   "metadata": {},
   "outputs": [
    {
     "name": "stderr",
     "output_type": "stream",
     "text": [
      "/tf/notebooks/face_emotion/face_classification_modi/src/utils/datasets.py:91: FutureWarning: Method .as_matrix will be removed in a future version. Use .values instead.\n",
      "  emotions = pd.get_dummies(data['emotion']).as_matrix()\n"
     ]
    }
   ],
   "source": [
    "from utils.datasets import DataManager\n",
    "from tensorflow.keras.preprocessing.image import ImageDataGenerator\n",
    "\n",
    "# config\n",
    "dataset_name = 'kor_multi_modal'\n",
    "input_shape = (64, 64, 1)\n",
    "\n",
    "# data generator\n",
    "data_generator = ImageDataGenerator(\n",
    "                        featurewise_center=False,\n",
    "                        featurewise_std_normalization=False,\n",
    "                        rotation_range=10,\n",
    "                        width_shift_range=0.1,\n",
    "                        height_shift_range=0.1,\n",
    "                        zoom_range=.1,\n",
    "                        horizontal_flip=True)\n",
    "\n",
    "data_loader = DataManager(dataset_name, image_size=input_shape[:2])\n",
    "faces, emotions = data_loader.get_data()"
   ]
  },
  {
   "cell_type": "code",
   "execution_count": 46,
   "metadata": {},
   "outputs": [
    {
     "data": {
      "text/plain": [
       "((128499, 64, 64, 1), (128499, 7))"
      ]
     },
     "execution_count": 46,
     "metadata": {},
     "output_type": "execute_result"
    }
   ],
   "source": [
    "faces.shape, emotions.shape"
   ]
  },
  {
   "cell_type": "code",
   "execution_count": 47,
   "metadata": {},
   "outputs": [],
   "source": [
    "suffle_frontal_df = frontal_df.sample(frac=1).reset_index(drop=True)"
   ]
  },
  {
   "cell_type": "code",
   "execution_count": 49,
   "metadata": {
    "scrolled": true
   },
   "outputs": [
    {
     "data": {
      "text/html": [
       "<div>\n",
       "<style scoped>\n",
       "    .dataframe tbody tr th:only-of-type {\n",
       "        vertical-align: middle;\n",
       "    }\n",
       "\n",
       "    .dataframe tbody tr th {\n",
       "        vertical-align: top;\n",
       "    }\n",
       "\n",
       "    .dataframe thead th {\n",
       "        text-align: right;\n",
       "    }\n",
       "</style>\n",
       "<table border=\"1\" class=\"dataframe\">\n",
       "  <thead>\n",
       "    <tr style=\"text-align: right;\">\n",
       "      <th></th>\n",
       "      <th>emotion</th>\n",
       "      <th>pixels</th>\n",
       "      <th>Usage</th>\n",
       "    </tr>\n",
       "  </thead>\n",
       "  <tbody>\n",
       "    <tr>\n",
       "      <th>0</th>\n",
       "      <td>1</td>\n",
       "      <td>76 76 50 40 41 49 59 82 109 129 139 143 144 14...</td>\n",
       "      <td>NaN</td>\n",
       "    </tr>\n",
       "    <tr>\n",
       "      <th>1</th>\n",
       "      <td>3</td>\n",
       "      <td>44 43 48 46 44 39 29 24 24 25 26 30 35 35 37 3...</td>\n",
       "      <td>NaN</td>\n",
       "    </tr>\n",
       "    <tr>\n",
       "      <th>2</th>\n",
       "      <td>3</td>\n",
       "      <td>199 200 200 201 201 201 186 71 33 27 22 18 16 ...</td>\n",
       "      <td>NaN</td>\n",
       "    </tr>\n",
       "    <tr>\n",
       "      <th>3</th>\n",
       "      <td>3</td>\n",
       "      <td>27 28 24 23 24 26 26 27 24 28 29 27 26 35 42 3...</td>\n",
       "      <td>NaN</td>\n",
       "    </tr>\n",
       "    <tr>\n",
       "      <th>4</th>\n",
       "      <td>6</td>\n",
       "      <td>24 29 31 27 28 30 37 39 35 37 55 60 62 52 47 4...</td>\n",
       "      <td>NaN</td>\n",
       "    </tr>\n",
       "    <tr>\n",
       "      <th>5</th>\n",
       "      <td>2</td>\n",
       "      <td>163 83 57 57 56 59 46 37 33 34 33 33 26 19 18 ...</td>\n",
       "      <td>NaN</td>\n",
       "    </tr>\n",
       "    <tr>\n",
       "      <th>6</th>\n",
       "      <td>4</td>\n",
       "      <td>41 41 41 42 41 40 42 39 40 40 38 41 41 43 43 4...</td>\n",
       "      <td>NaN</td>\n",
       "    </tr>\n",
       "    <tr>\n",
       "      <th>7</th>\n",
       "      <td>4</td>\n",
       "      <td>7 7 8 9 9 8 9 9 8 8 8 8 8 8 9 11 12 12 11 13 1...</td>\n",
       "      <td>NaN</td>\n",
       "    </tr>\n",
       "    <tr>\n",
       "      <th>8</th>\n",
       "      <td>6</td>\n",
       "      <td>51 58 45 39 31 27 28 27 28 35 42 45 49 50 52 5...</td>\n",
       "      <td>NaN</td>\n",
       "    </tr>\n",
       "    <tr>\n",
       "      <th>9</th>\n",
       "      <td>1</td>\n",
       "      <td>41 44 41 39 38 38 38 45 42 42 36 41 37 37 36 3...</td>\n",
       "      <td>NaN</td>\n",
       "    </tr>\n",
       "    <tr>\n",
       "      <th>10</th>\n",
       "      <td>1</td>\n",
       "      <td>110 103 105 88 85 102 114 74 73 133 95 93 51 3...</td>\n",
       "      <td>NaN</td>\n",
       "    </tr>\n",
       "    <tr>\n",
       "      <th>11</th>\n",
       "      <td>1</td>\n",
       "      <td>26 31 32 29 32 31 28 28 32 36 26 21 21 24 26 2...</td>\n",
       "      <td>NaN</td>\n",
       "    </tr>\n",
       "    <tr>\n",
       "      <th>12</th>\n",
       "      <td>2</td>\n",
       "      <td>32 29 31 29 27 25 28 34 30 27 32 28 31 31 27 2...</td>\n",
       "      <td>NaN</td>\n",
       "    </tr>\n",
       "    <tr>\n",
       "      <th>13</th>\n",
       "      <td>3</td>\n",
       "      <td>15 15 15 15 15 15 16 16 16 16 16 16 17 16 16 1...</td>\n",
       "      <td>NaN</td>\n",
       "    </tr>\n",
       "    <tr>\n",
       "      <th>14</th>\n",
       "      <td>3</td>\n",
       "      <td>154 134 84 42 28 26 25 20 17 27 54 77 85 86 86...</td>\n",
       "      <td>NaN</td>\n",
       "    </tr>\n",
       "    <tr>\n",
       "      <th>15</th>\n",
       "      <td>5</td>\n",
       "      <td>101 126 131 125 116 72 49 39 31 39 41 48 60 75...</td>\n",
       "      <td>NaN</td>\n",
       "    </tr>\n",
       "    <tr>\n",
       "      <th>16</th>\n",
       "      <td>1</td>\n",
       "      <td>159 166 166 131 90 98 98 98 95 86 77 79 71 66 ...</td>\n",
       "      <td>NaN</td>\n",
       "    </tr>\n",
       "    <tr>\n",
       "      <th>17</th>\n",
       "      <td>3</td>\n",
       "      <td>36 37 29 23 29 39 30 29 28 28 29 32 34 36 49 7...</td>\n",
       "      <td>NaN</td>\n",
       "    </tr>\n",
       "    <tr>\n",
       "      <th>18</th>\n",
       "      <td>2</td>\n",
       "      <td>35 37 35 35 31 45 43 36 36 34 35 32 35 34 31 3...</td>\n",
       "      <td>NaN</td>\n",
       "    </tr>\n",
       "    <tr>\n",
       "      <th>19</th>\n",
       "      <td>0</td>\n",
       "      <td>49 50 50 40 36 34 29 28 29 30 33 31 30 31 36 3...</td>\n",
       "      <td>NaN</td>\n",
       "    </tr>\n",
       "    <tr>\n",
       "      <th>20</th>\n",
       "      <td>5</td>\n",
       "      <td>42 32 43 56 58 57 55 51 50 49 49 50 51 51 51 5...</td>\n",
       "      <td>NaN</td>\n",
       "    </tr>\n",
       "    <tr>\n",
       "      <th>21</th>\n",
       "      <td>2</td>\n",
       "      <td>29 25 23 28 26 26 28 27 28 28 25 25 29 30 32 3...</td>\n",
       "      <td>NaN</td>\n",
       "    </tr>\n",
       "    <tr>\n",
       "      <th>22</th>\n",
       "      <td>1</td>\n",
       "      <td>199 199 198 194 183 145 85 56 33 22 39 78 118 ...</td>\n",
       "      <td>NaN</td>\n",
       "    </tr>\n",
       "    <tr>\n",
       "      <th>23</th>\n",
       "      <td>1</td>\n",
       "      <td>117 60 33 26 29 30 33 36 43 69 98 104 109 104 ...</td>\n",
       "      <td>NaN</td>\n",
       "    </tr>\n",
       "    <tr>\n",
       "      <th>24</th>\n",
       "      <td>6</td>\n",
       "      <td>63 52 33 28 35 38 29 29 34 55 59 41 60 81 73 4...</td>\n",
       "      <td>NaN</td>\n",
       "    </tr>\n",
       "    <tr>\n",
       "      <th>25</th>\n",
       "      <td>6</td>\n",
       "      <td>47 45 36 31 25 25 36 34 37 38 45 37 37 41 41 3...</td>\n",
       "      <td>NaN</td>\n",
       "    </tr>\n",
       "    <tr>\n",
       "      <th>26</th>\n",
       "      <td>5</td>\n",
       "      <td>14 14 14 16 15 16 17 16 20 22 23 23 26 26 26 3...</td>\n",
       "      <td>NaN</td>\n",
       "    </tr>\n",
       "    <tr>\n",
       "      <th>27</th>\n",
       "      <td>2</td>\n",
       "      <td>165 167 161 168 172 148 51 28 34 52 63 61 60 5...</td>\n",
       "      <td>NaN</td>\n",
       "    </tr>\n",
       "    <tr>\n",
       "      <th>28</th>\n",
       "      <td>0</td>\n",
       "      <td>179 84 47 42 39 39 38 33 33 45 35 33 36 35 44 ...</td>\n",
       "      <td>NaN</td>\n",
       "    </tr>\n",
       "    <tr>\n",
       "      <th>29</th>\n",
       "      <td>5</td>\n",
       "      <td>55 43 45 49 52 51 51 49 51 51 45 40 40 60 85 1...</td>\n",
       "      <td>NaN</td>\n",
       "    </tr>\n",
       "    <tr>\n",
       "      <th>...</th>\n",
       "      <td>...</td>\n",
       "      <td>...</td>\n",
       "      <td>...</td>\n",
       "    </tr>\n",
       "    <tr>\n",
       "      <th>70</th>\n",
       "      <td>4</td>\n",
       "      <td>23 22 21 20 19 18 19 19 19 19 19 18 17 19 19 1...</td>\n",
       "      <td>NaN</td>\n",
       "    </tr>\n",
       "    <tr>\n",
       "      <th>71</th>\n",
       "      <td>4</td>\n",
       "      <td>37 36 36 37 37 37 37 37 35 33 35 36 37 40 42 4...</td>\n",
       "      <td>NaN</td>\n",
       "    </tr>\n",
       "    <tr>\n",
       "      <th>72</th>\n",
       "      <td>5</td>\n",
       "      <td>130 130 128 92 63 69 64 58 57 64 57 42 49 54 5...</td>\n",
       "      <td>NaN</td>\n",
       "    </tr>\n",
       "    <tr>\n",
       "      <th>73</th>\n",
       "      <td>5</td>\n",
       "      <td>49 43 43 42 39 33 30 27 24 28 31 32 31 27 26 2...</td>\n",
       "      <td>NaN</td>\n",
       "    </tr>\n",
       "    <tr>\n",
       "      <th>74</th>\n",
       "      <td>5</td>\n",
       "      <td>48 46 41 45 44 38 42 46 47 44 35 28 27 29 32 3...</td>\n",
       "      <td>NaN</td>\n",
       "    </tr>\n",
       "    <tr>\n",
       "      <th>75</th>\n",
       "      <td>0</td>\n",
       "      <td>23 20 19 19 18 17 19 20 21 21 19 19 20 20 21 2...</td>\n",
       "      <td>NaN</td>\n",
       "    </tr>\n",
       "    <tr>\n",
       "      <th>76</th>\n",
       "      <td>6</td>\n",
       "      <td>153 164 165 165 165 165 165 166 166 167 167 16...</td>\n",
       "      <td>NaN</td>\n",
       "    </tr>\n",
       "    <tr>\n",
       "      <th>77</th>\n",
       "      <td>3</td>\n",
       "      <td>42 50 53 50 51 54 54 55 48 50 51 55 62 63 69 7...</td>\n",
       "      <td>NaN</td>\n",
       "    </tr>\n",
       "    <tr>\n",
       "      <th>78</th>\n",
       "      <td>5</td>\n",
       "      <td>17 23 27 19 16 15 15 17 18 19 23 28 38 55 66 7...</td>\n",
       "      <td>NaN</td>\n",
       "    </tr>\n",
       "    <tr>\n",
       "      <th>79</th>\n",
       "      <td>0</td>\n",
       "      <td>27 29 29 28 27 27 27 27 26 26 27 27 28 28 28 2...</td>\n",
       "      <td>NaN</td>\n",
       "    </tr>\n",
       "    <tr>\n",
       "      <th>80</th>\n",
       "      <td>1</td>\n",
       "      <td>31 30 30 31 36 50 63 74 87 94 99 103 107 109 1...</td>\n",
       "      <td>NaN</td>\n",
       "    </tr>\n",
       "    <tr>\n",
       "      <th>81</th>\n",
       "      <td>6</td>\n",
       "      <td>11 14 34 30 26 76 81 79 95 88 86 85 92 70 48 2...</td>\n",
       "      <td>NaN</td>\n",
       "    </tr>\n",
       "    <tr>\n",
       "      <th>82</th>\n",
       "      <td>1</td>\n",
       "      <td>46 58 93 117 126 132 137 140 139 132 124 116 1...</td>\n",
       "      <td>NaN</td>\n",
       "    </tr>\n",
       "    <tr>\n",
       "      <th>83</th>\n",
       "      <td>1</td>\n",
       "      <td>25 23 23 20 15 15 21 20 19 24 23 27 28 37 51 5...</td>\n",
       "      <td>NaN</td>\n",
       "    </tr>\n",
       "    <tr>\n",
       "      <th>84</th>\n",
       "      <td>5</td>\n",
       "      <td>21 32 69 108 140 165 164 154 151 140 137 135 1...</td>\n",
       "      <td>NaN</td>\n",
       "    </tr>\n",
       "    <tr>\n",
       "      <th>85</th>\n",
       "      <td>5</td>\n",
       "      <td>25 25 24 25 26 26 26 32 42 53 65 74 75 68 55 4...</td>\n",
       "      <td>NaN</td>\n",
       "    </tr>\n",
       "    <tr>\n",
       "      <th>86</th>\n",
       "      <td>1</td>\n",
       "      <td>28 29 32 36 39 42 43 42 40 41 42 43 44 47 48 5...</td>\n",
       "      <td>NaN</td>\n",
       "    </tr>\n",
       "    <tr>\n",
       "      <th>87</th>\n",
       "      <td>6</td>\n",
       "      <td>82 67 47 38 32 25 21 28 52 75 84 95 106 115 12...</td>\n",
       "      <td>NaN</td>\n",
       "    </tr>\n",
       "    <tr>\n",
       "      <th>88</th>\n",
       "      <td>2</td>\n",
       "      <td>56 49 45 50 55 61 62 66 65 69 74 79 79 78 80 8...</td>\n",
       "      <td>NaN</td>\n",
       "    </tr>\n",
       "    <tr>\n",
       "      <th>89</th>\n",
       "      <td>5</td>\n",
       "      <td>101 101 101 100 99 98 98 98 97 96 91 79 72 68 ...</td>\n",
       "      <td>NaN</td>\n",
       "    </tr>\n",
       "    <tr>\n",
       "      <th>90</th>\n",
       "      <td>0</td>\n",
       "      <td>77 64 44 41 38 40 42 42 36 50 40 27 31 30 28 3...</td>\n",
       "      <td>NaN</td>\n",
       "    </tr>\n",
       "    <tr>\n",
       "      <th>91</th>\n",
       "      <td>5</td>\n",
       "      <td>173 167 161 160 167 169 126 106 124 130 136 15...</td>\n",
       "      <td>NaN</td>\n",
       "    </tr>\n",
       "    <tr>\n",
       "      <th>92</th>\n",
       "      <td>3</td>\n",
       "      <td>27 26 30 29 38 51 60 58 44 37 32 30 28 31 38 6...</td>\n",
       "      <td>NaN</td>\n",
       "    </tr>\n",
       "    <tr>\n",
       "      <th>93</th>\n",
       "      <td>3</td>\n",
       "      <td>170 117 59 57 56 69 68 60 63 65 60 51 46 43 46...</td>\n",
       "      <td>NaN</td>\n",
       "    </tr>\n",
       "    <tr>\n",
       "      <th>94</th>\n",
       "      <td>6</td>\n",
       "      <td>66 47 33 34 29 34 34 34 32 33 30 33 36 41 43 4...</td>\n",
       "      <td>NaN</td>\n",
       "    </tr>\n",
       "    <tr>\n",
       "      <th>95</th>\n",
       "      <td>6</td>\n",
       "      <td>78 97 80 45 19 11 12 15 16 16 19 24 19 20 33 4...</td>\n",
       "      <td>NaN</td>\n",
       "    </tr>\n",
       "    <tr>\n",
       "      <th>96</th>\n",
       "      <td>6</td>\n",
       "      <td>127 67 35 30 23 23 26 24 22 25 36 38 44 53 53 ...</td>\n",
       "      <td>NaN</td>\n",
       "    </tr>\n",
       "    <tr>\n",
       "      <th>97</th>\n",
       "      <td>0</td>\n",
       "      <td>11 11 13 14 15 14 17 28 51 72 90 105 112 116 1...</td>\n",
       "      <td>NaN</td>\n",
       "    </tr>\n",
       "    <tr>\n",
       "      <th>98</th>\n",
       "      <td>4</td>\n",
       "      <td>35 48 50 46 36 47 39 30 41 41 42 41 37 37 20 3...</td>\n",
       "      <td>NaN</td>\n",
       "    </tr>\n",
       "    <tr>\n",
       "      <th>99</th>\n",
       "      <td>4</td>\n",
       "      <td>22 22 21 21 20 23 23 24 23 23 23 21 21 19 19 1...</td>\n",
       "      <td>NaN</td>\n",
       "    </tr>\n",
       "  </tbody>\n",
       "</table>\n",
       "<p>100 rows × 3 columns</p>\n",
       "</div>"
      ],
      "text/plain": [
       "    emotion                                             pixels  Usage\n",
       "0         1  76 76 50 40 41 49 59 82 109 129 139 143 144 14...    NaN\n",
       "1         3  44 43 48 46 44 39 29 24 24 25 26 30 35 35 37 3...    NaN\n",
       "2         3  199 200 200 201 201 201 186 71 33 27 22 18 16 ...    NaN\n",
       "3         3  27 28 24 23 24 26 26 27 24 28 29 27 26 35 42 3...    NaN\n",
       "4         6  24 29 31 27 28 30 37 39 35 37 55 60 62 52 47 4...    NaN\n",
       "5         2  163 83 57 57 56 59 46 37 33 34 33 33 26 19 18 ...    NaN\n",
       "6         4  41 41 41 42 41 40 42 39 40 40 38 41 41 43 43 4...    NaN\n",
       "7         4  7 7 8 9 9 8 9 9 8 8 8 8 8 8 9 11 12 12 11 13 1...    NaN\n",
       "8         6  51 58 45 39 31 27 28 27 28 35 42 45 49 50 52 5...    NaN\n",
       "9         1  41 44 41 39 38 38 38 45 42 42 36 41 37 37 36 3...    NaN\n",
       "10        1  110 103 105 88 85 102 114 74 73 133 95 93 51 3...    NaN\n",
       "11        1  26 31 32 29 32 31 28 28 32 36 26 21 21 24 26 2...    NaN\n",
       "12        2  32 29 31 29 27 25 28 34 30 27 32 28 31 31 27 2...    NaN\n",
       "13        3  15 15 15 15 15 15 16 16 16 16 16 16 17 16 16 1...    NaN\n",
       "14        3  154 134 84 42 28 26 25 20 17 27 54 77 85 86 86...    NaN\n",
       "15        5  101 126 131 125 116 72 49 39 31 39 41 48 60 75...    NaN\n",
       "16        1  159 166 166 131 90 98 98 98 95 86 77 79 71 66 ...    NaN\n",
       "17        3  36 37 29 23 29 39 30 29 28 28 29 32 34 36 49 7...    NaN\n",
       "18        2  35 37 35 35 31 45 43 36 36 34 35 32 35 34 31 3...    NaN\n",
       "19        0  49 50 50 40 36 34 29 28 29 30 33 31 30 31 36 3...    NaN\n",
       "20        5  42 32 43 56 58 57 55 51 50 49 49 50 51 51 51 5...    NaN\n",
       "21        2  29 25 23 28 26 26 28 27 28 28 25 25 29 30 32 3...    NaN\n",
       "22        1  199 199 198 194 183 145 85 56 33 22 39 78 118 ...    NaN\n",
       "23        1  117 60 33 26 29 30 33 36 43 69 98 104 109 104 ...    NaN\n",
       "24        6  63 52 33 28 35 38 29 29 34 55 59 41 60 81 73 4...    NaN\n",
       "25        6  47 45 36 31 25 25 36 34 37 38 45 37 37 41 41 3...    NaN\n",
       "26        5  14 14 14 16 15 16 17 16 20 22 23 23 26 26 26 3...    NaN\n",
       "27        2  165 167 161 168 172 148 51 28 34 52 63 61 60 5...    NaN\n",
       "28        0  179 84 47 42 39 39 38 33 33 45 35 33 36 35 44 ...    NaN\n",
       "29        5  55 43 45 49 52 51 51 49 51 51 45 40 40 60 85 1...    NaN\n",
       "..      ...                                                ...    ...\n",
       "70        4  23 22 21 20 19 18 19 19 19 19 19 18 17 19 19 1...    NaN\n",
       "71        4  37 36 36 37 37 37 37 37 35 33 35 36 37 40 42 4...    NaN\n",
       "72        5  130 130 128 92 63 69 64 58 57 64 57 42 49 54 5...    NaN\n",
       "73        5  49 43 43 42 39 33 30 27 24 28 31 32 31 27 26 2...    NaN\n",
       "74        5  48 46 41 45 44 38 42 46 47 44 35 28 27 29 32 3...    NaN\n",
       "75        0  23 20 19 19 18 17 19 20 21 21 19 19 20 20 21 2...    NaN\n",
       "76        6  153 164 165 165 165 165 165 166 166 167 167 16...    NaN\n",
       "77        3  42 50 53 50 51 54 54 55 48 50 51 55 62 63 69 7...    NaN\n",
       "78        5  17 23 27 19 16 15 15 17 18 19 23 28 38 55 66 7...    NaN\n",
       "79        0  27 29 29 28 27 27 27 27 26 26 27 27 28 28 28 2...    NaN\n",
       "80        1  31 30 30 31 36 50 63 74 87 94 99 103 107 109 1...    NaN\n",
       "81        6  11 14 34 30 26 76 81 79 95 88 86 85 92 70 48 2...    NaN\n",
       "82        1  46 58 93 117 126 132 137 140 139 132 124 116 1...    NaN\n",
       "83        1  25 23 23 20 15 15 21 20 19 24 23 27 28 37 51 5...    NaN\n",
       "84        5  21 32 69 108 140 165 164 154 151 140 137 135 1...    NaN\n",
       "85        5  25 25 24 25 26 26 26 32 42 53 65 74 75 68 55 4...    NaN\n",
       "86        1  28 29 32 36 39 42 43 42 40 41 42 43 44 47 48 5...    NaN\n",
       "87        6  82 67 47 38 32 25 21 28 52 75 84 95 106 115 12...    NaN\n",
       "88        2  56 49 45 50 55 61 62 66 65 69 74 79 79 78 80 8...    NaN\n",
       "89        5  101 101 101 100 99 98 98 98 97 96 91 79 72 68 ...    NaN\n",
       "90        0  77 64 44 41 38 40 42 42 36 50 40 27 31 30 28 3...    NaN\n",
       "91        5  173 167 161 160 167 169 126 106 124 130 136 15...    NaN\n",
       "92        3  27 26 30 29 38 51 60 58 44 37 32 30 28 31 38 6...    NaN\n",
       "93        3  170 117 59 57 56 69 68 60 63 65 60 51 46 43 46...    NaN\n",
       "94        6  66 47 33 34 29 34 34 34 32 33 30 33 36 41 43 4...    NaN\n",
       "95        6  78 97 80 45 19 11 12 15 16 16 19 24 19 20 33 4...    NaN\n",
       "96        6  127 67 35 30 23 23 26 24 22 25 36 38 44 53 53 ...    NaN\n",
       "97        0  11 11 13 14 15 14 17 28 51 72 90 105 112 116 1...    NaN\n",
       "98        4  35 48 50 46 36 47 39 30 41 41 42 41 37 37 20 3...    NaN\n",
       "99        4  22 22 21 21 20 23 23 24 23 23 23 21 21 19 19 1...    NaN\n",
       "\n",
       "[100 rows x 3 columns]"
      ]
     },
     "execution_count": 49,
     "metadata": {},
     "output_type": "execute_result"
    }
   ],
   "source": [
    "suffle_frontal_df.head(100)"
   ]
  },
  {
   "cell_type": "code",
   "execution_count": null,
   "metadata": {},
   "outputs": [],
   "source": []
  },
  {
   "cell_type": "markdown",
   "metadata": {},
   "source": [
    "## Attention test"
   ]
  },
  {
   "cell_type": "code",
   "execution_count": 95,
   "metadata": {},
   "outputs": [],
   "source": [
    "import tensorflow as tf\n",
    "input_dims = 48*48"
   ]
  },
  {
   "cell_type": "code",
   "execution_count": 99,
   "metadata": {},
   "outputs": [
    {
     "data": {
      "application/vnd.jupyter.widget-view+json": {
       "model_id": "b5df56297410408ba1e16656033139bc",
       "version_major": 2,
       "version_minor": 0
      },
      "text/plain": [
       "interactive(children=(IntSlider(value=0, description='x', max=128498), Output()), _dom_classes=('widget-intera…"
      ]
     },
     "metadata": {},
     "output_type": "display_data"
    }
   ],
   "source": [
    "# 다음 링크 참조: https://github.com/philipperemy/keras-attention-mechanism\n",
    "# inputs = Input(shape=(input_dims,))\n",
    "# attention_probs = Dense(input_dims, activation='softmax', name='attention_probs')(inputs)\n",
    "# attention_mul = merge([inputs, attention_probs], output_shape=input_dims, name='attention_mul', mode='mul')\n",
    "\n",
    "def test_x(x):\n",
    "    row = frontal_df.iloc[x]\n",
    "    pixels = row['pixels']\n",
    "    emotion = row['emotion']\n",
    "    print(emotion_map[emotion])\n",
    "    img = np.asarray(pixels.split(\" \"), dtype=np.int16).reshape((48, 48))\n",
    "\n",
    "    img = img / 255.\n",
    "    img_tensor = tf.cast(img.reshape(48*48), tf.float32)\n",
    "    img_tensor = tf.expand_dims(img_tensor, axis=0)\n",
    "\n",
    "    # Attention model\n",
    "    inputs = tf.keras.Input(input_dims)\n",
    "    attention_probs = tf.keras.layers.Dense(input_dims, activation='softmax', name='attention_probs')(inputs)\n",
    "    attention_mul = tf.keras.layers.multiply([inputs, attention_probs])\n",
    "    model = tf.keras.models.Model(inputs, attention_mul)\n",
    "    output_tensor = model(img_tensor)\n",
    "\n",
    "    print(np.unique(output_tensor.numpy()))\n",
    "\n",
    "    fig = plt.figure(figsize=(10, 10))\n",
    "    fig.add_subplot(1, 2, 1)\n",
    "    plt.imshow(img, 'gray')\n",
    "    fig.add_subplot(1, 2, 2)\n",
    "    plt.imshow(tf.reshape(output_tensor, shape=(48,48)).numpy(), 'gray')\n",
    "    \n",
    "ipywidgets.interactive(test_x, x = ipywidgets.IntSlider(0, 0, frontal_df.shape[0]-1, 1))"
   ]
  },
  {
   "cell_type": "code",
   "execution_count": 125,
   "metadata": {},
   "outputs": [
    {
     "data": {
      "application/vnd.jupyter.widget-view+json": {
       "model_id": "f4746d55f47b402498f42fc42956b47b",
       "version_major": 2,
       "version_minor": 0
      },
      "text/plain": [
       "interactive(children=(IntSlider(value=0, description='x', max=128498), Output()), _dom_classes=('widget-intera…"
      ]
     },
     "metadata": {},
     "output_type": "display_data"
    }
   ],
   "source": [
    "# 다음 논문 참조: https://arxiv.org/pdf/1811.02360.pdf\n",
    "\n",
    "def test_x(x):\n",
    "    row = frontal_df.iloc[x]\n",
    "    pixels = row['pixels']\n",
    "    emotion = row['emotion']\n",
    "    print(emotion_map[emotion])\n",
    "    img = np.asarray(pixels.split(\" \"), dtype=np.int16).reshape((48, 48))\n",
    "\n",
    "    img = img / 255.\n",
    "    img_tensor = tf.cast(img, tf.float32)\n",
    "    img_tensor = tf.expand_dims(img_tensor, axis=0)\n",
    "\n",
    "    # Attention model\n",
    "    inputs = tf.keras.Input((48, 48))\n",
    "    conv_inputs = tf.expand_dims(inputs, axis=-1)\n",
    "    conv1 = tf.keras.layers.Conv2D(3, 1, padding='same')(conv_inputs)\n",
    "    conv3_1 = tf.keras.layers.Conv2D(3, 3, padding='same')(conv_inputs)\n",
    "    conv3_2 = tf.keras.layers.Conv2D(3, 3, padding='same')(conv3_1)\n",
    "    mid_add = tf.keras.layers.add([conv3_2, conv1])\n",
    "    \n",
    "    ch_concat = tf.keras.layers.concatenate([conv3_1, conv3_2, conv1])\n",
    "    ch_concat = tf.keras.layers.Conv2D(3, 1, padding='same')(ch_concat)\n",
    "    ch_concat = tf.keras.backend.mean(ch_concat, axis=-1, keepdims=True)\n",
    "    \n",
    "    mid_mul = tf.keras.layers.multiply([mid_add, ch_concat])\n",
    "    \n",
    "    res_attention_output = tf.keras.layers.add([mid_add, mid_mul])\n",
    "    res_attention_output = tf.keras.layers.Conv2D(1, 1, padding='same')(res_attention_output)\n",
    "\n",
    "    model = tf.keras.models.Model(inputs, res_attention_output)\n",
    "    output_tensor = model(img_tensor)\n",
    "\n",
    "    fig = plt.figure(figsize=(10, 10))\n",
    "    fig.add_subplot(1, 2, 1)\n",
    "    plt.imshow(img, 'gray')\n",
    "    fig.add_subplot(1, 2, 2)\n",
    "\n",
    "    plt.imshow(output_tensor.numpy()[0, :, :, 0], 'gray')\n",
    "    \n",
    "ipywidgets.interactive(test_x, x = ipywidgets.IntSlider(0, 0, frontal_df.shape[0]-1, 1))"
   ]
  }
 ],
 "metadata": {
  "kernelspec": {
   "display_name": "rt-face-detect",
   "language": "python",
   "name": "rt-face-detect"
  },
  "language_info": {
   "codemirror_mode": {
    "name": "ipython",
    "version": 3
   },
   "file_extension": ".py",
   "mimetype": "text/x-python",
   "name": "python",
   "nbconvert_exporter": "python",
   "pygments_lexer": "ipython3",
   "version": "3.5.2"
  }
 },
 "nbformat": 4,
 "nbformat_minor": 2
}
