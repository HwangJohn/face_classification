{
 "cells": [
  {
   "cell_type": "code",
   "execution_count": 18,
   "metadata": {},
   "outputs": [
    {
     "name": "stdout",
     "output_type": "stream",
     "text": [
      "total 7632\r\n",
      "drwxrwxr-x   3 1005 1000    4096 May  7 01:35 .\r\n",
      "drwxrwxr-x 294 1005 1000   12288 May 13 12:31 ..\r\n",
      "drwxrwxr-x  12 1005 1000     330 May  7 01:36 KETI_MULTIMODAL_0000000012\r\n",
      "-rw-rw-r--   1 1005 1000 6375544 May  7 00:39 KETI_MULTIMODAL_0000000012.mp4\r\n",
      "-rw-rw-r--   1 1005 1000  682740 May  7 00:39 KETI_MULTIMODAL_0000000012_interpolation.json\r\n",
      "-rw-rw-r--   1 1005 1000    1801 May  7 00:39 KETI_MULTIMODAL_0000000012_jiyu.json\r\n",
      "-rw-rw-r--   1 1005 1000    1267 May  7 00:39 KETI_MULTIMODAL_0000000012_jiyu_interpolation.json\r\n",
      "-rw-rw-r--   1 1005 1000   38674 May  7 00:39 KETI_MULTIMODAL_0000000012_roykim1234.json\r\n",
      "-rw-rw-r--   1 1005 1000  681679 May  7 00:39 KETI_MULTIMODAL_0000000012_roykim1234_interpolation.json\r\n"
     ]
    }
   ],
   "source": [
    "!ls -al /tf/notebooks/datasets/emotion/multi-modal/part1/KETI_MULTIMODAL_0000000012"
   ]
  },
  {
   "cell_type": "code",
   "execution_count": 28,
   "metadata": {},
   "outputs": [
    {
     "name": "stdout",
     "output_type": "stream",
     "text": [
      "Requirement already satisfied: pycodestyle in /root/.local/share/jupyter/kernels/rt-face-detect/lib/python3.5/site-packages (2.5.0)\n",
      "Requirement already satisfied: pycodestyle_magic in /root/.local/share/jupyter/kernels/rt-face-detect/lib/python3.5/site-packages (0.2.5)\n",
      "Collecting flake8\n",
      "  Downloading https://files.pythonhosted.org/packages/e9/76/b915bd28976068a9843bf836b789794aa4a8eb13338b23581005cd9177c0/flake8-3.7.7-py2.py3-none-any.whl (68kB)\n",
      "Collecting entrypoints<0.4.0,>=0.3.0 (from flake8)\n",
      "  Using cached https://files.pythonhosted.org/packages/ac/c6/44694103f8c221443ee6b0041f69e2740d89a25641e62fb4f2ee568f2f9c/entrypoints-0.3-py2.py3-none-any.whl\n",
      "Requirement already satisfied: pycodestyle<2.6.0,>=2.5.0 in /root/.local/share/jupyter/kernels/rt-face-detect/lib/python3.5/site-packages (from flake8) (2.5.0)\n",
      "Collecting mccabe<0.7.0,>=0.6.0 (from flake8)\n",
      "  Downloading https://files.pythonhosted.org/packages/87/89/479dc97e18549e21354893e4ee4ef36db1d237534982482c3681ee6e7b57/mccabe-0.6.1-py2.py3-none-any.whl\n",
      "Collecting pyflakes<2.2.0,>=2.1.0 (from flake8)\n",
      "  Downloading https://files.pythonhosted.org/packages/84/f2/ed0ffb887f8138a8fe5a621b8c0bb9598bfb3989e029f6c6a85ee66628ee/pyflakes-2.1.1-py2.py3-none-any.whl (59kB)\n",
      "Installing collected packages: entrypoints, mccabe, pyflakes, flake8\n",
      "Successfully installed entrypoints-0.3 flake8-3.7.7 mccabe-0.6.1 pyflakes-2.1.1\n"
     ]
    }
   ],
   "source": [
    "%%bash\n",
    "\n",
    "source /root/.local/share/jupyter/kernels/rt-face-detect/bin/activate\n",
    "\n",
    "pip install pycodestyle pycodestyle_magic\n",
    "pip install flake8"
   ]
  },
  {
   "cell_type": "code",
   "execution_count": 29,
   "metadata": {},
   "outputs": [],
   "source": [
    "%load_ext pycodestyle_magic"
   ]
  },
  {
   "cell_type": "markdown",
   "metadata": {},
   "source": [
    "### 공통 전처리 부분 (Frame 단위)\n",
    "\n",
    "#### inputs:\n",
    "* 태깅파일: ~_interpolation.json\n",
    "* 이미지파일: ~KM_0000000000.jpg\n",
    "* 감정종류: 8가지 ('happiness', 'afraid', 'neutral', 'surprise', 'sadness', 'contempt', 'anger', 'disgust')\n",
    "    * 예시: {'happiness': 0, 'afraid': 0, 'neutral': 10, 'surprise': 0, 'sadness': 0, 'contempt': 0, 'anger': 0, 'disgust': 0} 일 경우 'neutral'이 선정"
   ]
  },
  {
   "cell_type": "code",
   "execution_count": 58,
   "metadata": {},
   "outputs": [],
   "source": [
    "import os\n",
    "import json\n",
    "import io\n",
    "import numpy as np\n",
    "import operator\n",
    "import collections\n",
    "import base64\n",
    "import pandas as pd\n",
    "from glob import glob\n",
    "from IPython.display import HTML\n",
    "\n",
    "# multi-modal 데이터셋 다운로드 위치 입력\n",
    "\n",
    "# 입력 zip파일의 part 번호\n",
    "part_num = '4'\n",
    "\n",
    "# input 폴더\n",
    "base_folder = '/tf/notebooks/datasets/emotion/multi-modal/part'+part_num+'/'\n",
    "\n",
    "# output 파일경로\n",
    "prep_trainset_path='../datasets/kor_multi_modal/prep_part'+part_num+'.csv'\n",
    "\n",
    "%matplotlib inline"
   ]
  },
  {
   "cell_type": "code",
   "execution_count": 59,
   "metadata": {},
   "outputs": [],
   "source": [
    "# 태깅설명: http://www.aihub.or.kr/content/555"
   ]
  },
  {
   "cell_type": "code",
   "execution_count": 60,
   "metadata": {},
   "outputs": [],
   "source": [
    "# 맵핑\n",
    "def get_tagging_info(json_loaded, img_path_list):\n",
    "    train_data = []\n",
    "    for shot_info_idx in range(len(json_loaded[\"shot_infos\"])):\n",
    "        for visual_info_idx in range(len(json_loaded[\"shot_infos\"][shot_info_idx][\"visual_infos\"])):\n",
    "            img_path = json_loaded[\"shot_infos\"][shot_info_idx][\"visual_infos\"][visual_info_idx][\"image_id\"]\n",
    "            if json_loaded[\"shot_infos\"][shot_info_idx][\"visual_infos\"][visual_info_idx][\"persons\"] != []:\n",
    "                for person_info_idx in range(len(json_loaded[\"shot_infos\"][shot_info_idx][\"visual_infos\"][visual_info_idx][\"persons\"])):\n",
    "                    if json_loaded[\"shot_infos\"][shot_info_idx][\"visual_infos\"][visual_info_idx][\"persons\"][person_info_idx][\"person_info\"][\"emotion\"] != []:\n",
    "                        person = json_loaded[\"shot_infos\"][shot_info_idx][\"visual_infos\"][visual_info_idx][\"persons\"][person_info_idx]\n",
    "                        face_rect = person['person_info']['face_rect']\n",
    "                        emotion = person[\"person_info\"][\"emotion\"]\n",
    "\n",
    "                        # 수치가 가장 큰 감정 선택\n",
    "                        max_emo = max(emotion.items(), key=operator.itemgetter(1))[0]\n",
    "                        \n",
    "                        img_exist_path = [s for s in img_path_list if img_path in s]\n",
    "                        if img_exist_path == []:\n",
    "                            continue\n",
    "                        \n",
    "                        full_img_path = img_exist_path[0]\n",
    "                        \n",
    "                        if full_img_path != []:\n",
    "                            train_data.append({'emotion':max_emo, 'img_path':full_img_path, 'face_rect':face_rect})\n",
    "                                        \n",
    "            \n",
    "    return train_data"
   ]
  },
  {
   "cell_type": "code",
   "execution_count": 61,
   "metadata": {},
   "outputs": [],
   "source": [
    "video_clip_pathes = glob(base_folder+\"/*\")\n",
    "\n",
    "raw_tag_info = []\n",
    "\n",
    "# tmp_idx = 0                      # 작은 데이터로 테스트 필요할 시 주석처리\n",
    "for video_clip_path in video_clip_pathes:\n",
    "    \n",
    "    # 해당 비디오 클립의 전체 이미지 경로\n",
    "    img_path_list = glob(video_clip_path+\"/*/*/*.jpg\")    \n",
    "\n",
    "    # 해당 비디오 클립의 태깅정보 파일 경로\n",
    "    json_file_name_postfix = video_clip_path.split(\"_\")[-2]+\"_\"+video_clip_path.split(\"_\")[-1]\n",
    "    video_clip_tagging_json_path = glob(os.path.join(video_clip_path, \"*\"+json_file_name_postfix+\"_interpolation.json\"))\n",
    "\n",
    "    with open(video_clip_tagging_json_path[0], 'r') as f:\n",
    "        json_loaded = json.load(f)\n",
    "        \n",
    "    raw_tag_info = raw_tag_info + get_tagging_info(json_loaded, img_path_list)\n",
    "    \n",
    "#     tmp_idx = tmp_idx + 1  # 작은 데이터로 테스트 필요할 시 주석처리\n",
    "#     if tmp_idx > 1:              # 작은 데이터로 테스트 필요할 시 주석처리\n",
    "#         break                       # 작은 데이터로 테스트 필요할 시 주석처리\n",
    "    \n",
    "raw_tag_info_df = pd.DataFrame(raw_tag_info)"
   ]
  },
  {
   "cell_type": "code",
   "execution_count": 62,
   "metadata": {
    "scrolled": true
   },
   "outputs": [
    {
     "data": {
      "text/html": [
       "<div>\n",
       "<style scoped>\n",
       "    .dataframe tbody tr th:only-of-type {\n",
       "        vertical-align: middle;\n",
       "    }\n",
       "\n",
       "    .dataframe tbody tr th {\n",
       "        vertical-align: top;\n",
       "    }\n",
       "\n",
       "    .dataframe thead th {\n",
       "        text-align: right;\n",
       "    }\n",
       "</style>\n",
       "<table border=\"1\" class=\"dataframe\">\n",
       "  <thead>\n",
       "    <tr style=\"text-align: right;\">\n",
       "      <th></th>\n",
       "      <th>emotion</th>\n",
       "      <th>face_rect</th>\n",
       "      <th>img_path</th>\n",
       "    </tr>\n",
       "  </thead>\n",
       "  <tbody>\n",
       "    <tr>\n",
       "      <th>0</th>\n",
       "      <td>happiness</td>\n",
       "      <td>{'min_x': 934, 'min_y': 150, 'max_x': 1243, 'm...</td>\n",
       "      <td>/tf/notebooks/datasets/emotion/multi-modal/par...</td>\n",
       "    </tr>\n",
       "    <tr>\n",
       "      <th>1</th>\n",
       "      <td>happiness</td>\n",
       "      <td>{'min_x': 932, 'min_y': 150, 'max_x': 1241, 'm...</td>\n",
       "      <td>/tf/notebooks/datasets/emotion/multi-modal/par...</td>\n",
       "    </tr>\n",
       "    <tr>\n",
       "      <th>2</th>\n",
       "      <td>happiness</td>\n",
       "      <td>{'min_x': 931, 'min_y': 150, 'max_x': 1240, 'm...</td>\n",
       "      <td>/tf/notebooks/datasets/emotion/multi-modal/par...</td>\n",
       "    </tr>\n",
       "    <tr>\n",
       "      <th>3</th>\n",
       "      <td>happiness</td>\n",
       "      <td>{'min_x': 929, 'min_y': 149, 'max_x': 1238, 'm...</td>\n",
       "      <td>/tf/notebooks/datasets/emotion/multi-modal/par...</td>\n",
       "    </tr>\n",
       "    <tr>\n",
       "      <th>4</th>\n",
       "      <td>happiness</td>\n",
       "      <td>{'min_x': 927, 'min_y': 149, 'max_x': 1236, 'm...</td>\n",
       "      <td>/tf/notebooks/datasets/emotion/multi-modal/par...</td>\n",
       "    </tr>\n",
       "  </tbody>\n",
       "</table>\n",
       "</div>"
      ],
      "text/plain": [
       "     emotion                                          face_rect  \\\n",
       "0  happiness  {'min_x': 934, 'min_y': 150, 'max_x': 1243, 'm...   \n",
       "1  happiness  {'min_x': 932, 'min_y': 150, 'max_x': 1241, 'm...   \n",
       "2  happiness  {'min_x': 931, 'min_y': 150, 'max_x': 1240, 'm...   \n",
       "3  happiness  {'min_x': 929, 'min_y': 149, 'max_x': 1238, 'm...   \n",
       "4  happiness  {'min_x': 927, 'min_y': 149, 'max_x': 1236, 'm...   \n",
       "\n",
       "                                            img_path  \n",
       "0  /tf/notebooks/datasets/emotion/multi-modal/par...  \n",
       "1  /tf/notebooks/datasets/emotion/multi-modal/par...  \n",
       "2  /tf/notebooks/datasets/emotion/multi-modal/par...  \n",
       "3  /tf/notebooks/datasets/emotion/multi-modal/par...  \n",
       "4  /tf/notebooks/datasets/emotion/multi-modal/par...  "
      ]
     },
     "execution_count": 62,
     "metadata": {},
     "output_type": "execute_result"
    }
   ],
   "source": [
    "raw_tag_info_df.head()"
   ]
  },
  {
   "cell_type": "code",
   "execution_count": 63,
   "metadata": {},
   "outputs": [
    {
     "data": {
      "text/plain": [
       "<matplotlib.axes._subplots.AxesSubplot at 0x7f9523d94278>"
      ]
     },
     "execution_count": 63,
     "metadata": {},
     "output_type": "execute_result"
    },
    {
     "data": {
      "image/png": "[encoded data removed]",
      "text/plain": [
       "<Figure size 432x288 with 1 Axes>"
      ]
     },
     "metadata": {
      "needs_background": "light"
     },
     "output_type": "display_data"
    }
   ],
   "source": [
    "raw_tag_info_df[\"emotion\"].value_counts().plot.bar()"
   ]
  },
  {
   "cell_type": "code",
   "execution_count": 64,
   "metadata": {},
   "outputs": [
    {
     "data": {
      "text/plain": [
       "neutral      2026\n",
       "surprise      190\n",
       "happiness     179\n",
       "disgust       143\n",
       "anger          52\n",
       "afraid         26\n",
       "sadness        20\n",
       "Name: emotion, dtype: int64"
      ]
     },
     "execution_count": 64,
     "metadata": {},
     "output_type": "execute_result"
    }
   ],
   "source": [
    "raw_tag_info_df[\"emotion\"].value_counts()"
   ]
  },
  {
   "cell_type": "code",
   "execution_count": 65,
   "metadata": {},
   "outputs": [],
   "source": [
    "# balancing sampling\n",
    "\n",
    "## disgust와 contempt는 disgust 하나로 합침\n",
    "# raw_tag_info_df[raw_tag_info_df[\"emotions\"]=='contempt'] = 'disgust'\n",
    "raw_tag_info_df = raw_tag_info_df.replace('contempt', 'disgust')\n",
    "\n",
    "\n",
    "min_emotion_cnt = np.min(raw_tag_info_df[\"emotion\"].value_counts())\n",
    "sampled_tag_info_df = raw_tag_info_df.groupby(\"emotion\", group_keys=False).apply(lambda df: df.sample(min_emotion_cnt))\n",
    "sampled_tag_info_df = sampled_tag_info_df.reset_index(drop=True)"
   ]
  },
  {
   "cell_type": "code",
   "execution_count": 66,
   "metadata": {},
   "outputs": [
    {
     "data": {
      "text/plain": [
       "anger        20\n",
       "afraid       20\n",
       "neutral      20\n",
       "disgust      20\n",
       "sadness      20\n",
       "happiness    20\n",
       "surprise     20\n",
       "Name: emotion, dtype: int64"
      ]
     },
     "execution_count": 66,
     "metadata": {},
     "output_type": "execute_result"
    }
   ],
   "source": [
    "sampled_tag_info_df[\"emotion\"].value_counts()"
   ]
  },
  {
   "cell_type": "code",
   "execution_count": 68,
   "metadata": {},
   "outputs": [
    {
     "data": {
      "text/plain": [
       "emotion      140\n",
       "face_rect    140\n",
       "img_path     140\n",
       "dtype: int64"
      ]
     },
     "execution_count": 68,
     "metadata": {},
     "output_type": "execute_result"
    }
   ],
   "source": [
    "sampled_tag_info_df.count()"
   ]
  },
  {
   "cell_type": "markdown",
   "metadata": {},
   "source": [
    "### Real-time Convolutional Neural Networks for Emotion and Gender Classification 모델을 위한 전처리 부분"
   ]
  },
  {
   "cell_type": "code",
   "execution_count": 69,
   "metadata": {},
   "outputs": [],
   "source": [
    "import cv2\n",
    "import re\n",
    "import numpy as np\n",
    "import matplotlib.pyplot as plt\n",
    "from multiprocessing import Pool"
   ]
  },
  {
   "cell_type": "code",
   "execution_count": 70,
   "metadata": {},
   "outputs": [],
   "source": [
    "import multiprocessing\n",
    "\n",
    "# num_cores = multiprocessing.cpu_count()\n",
    "num_cores = 5"
   ]
  },
  {
   "cell_type": "code",
   "execution_count": 71,
   "metadata": {},
   "outputs": [],
   "source": [
    "def img_path_to_pixel(x):\n",
    "    \n",
    "    img_path, face_rect = x[0], x[1]\n",
    "    \n",
    "    img = cv2.imread(img_path, cv2.IMREAD_GRAYSCALE)\n",
    "    img_shape = img.shape\n",
    "    \n",
    "    # face_rect 부분 잘라내기\n",
    "    # ex) 'max_x': 1125, 'max_y': 798, 'min_x': 708, 'min_y': 267\n",
    "    min_x = face_rect['min_x']\n",
    "    max_x = face_rect['max_x']\n",
    "    min_y = face_rect['min_y']\n",
    "    max_y = face_rect['max_y']\n",
    "    \n",
    "    if  not isinstance(min_x, int) or not isinstance(max_x, int) or  not isinstance(min_y, int) or not isinstance(max_y, int) or \\\n",
    "        min_x <= 0 or max_x <= 0 or min_y <= 0 or max_y <= 0:\n",
    "        return None\n",
    "    \n",
    "#     print(min_y,max_y, min_x,max_x)\n",
    "    img = img[min_y:max_y, min_x:max_x]\n",
    "    \n",
    "    # 이미지 축소 시에는 INTER_AREA, https://076923.github.io/posts/Python-opencv-8/\n",
    "    img = cv2.resize(img, dsize=(48, 48), interpolation=cv2.INTER_AREA)\n",
    "    \n",
    "    # split array to ' ' str\n",
    "    img = ' '.join(img.astype(int).astype(str).reshape(-1))\n",
    "    \n",
    "    return img"
   ]
  },
  {
   "cell_type": "code",
   "execution_count": 72,
   "metadata": {},
   "outputs": [],
   "source": [
    "def multi_process_sub(df_split):\n",
    "\n",
    "    return df_split[['img_path', 'face_rect']].apply(img_path_to_pixel, axis=1)"
   ]
  },
  {
   "cell_type": "code",
   "execution_count": 73,
   "metadata": {},
   "outputs": [],
   "source": [
    "def multi_process(df, func):\n",
    "    df_split = np.array_split(df, num_cores)\n",
    "    pool = Pool(num_cores)\n",
    "    df = pd.concat(pool.map(func, df_split))\n",
    "    pool.close()\n",
    "    pool.join()\n",
    "    return df"
   ]
  },
  {
   "cell_type": "code",
   "execution_count": 74,
   "metadata": {},
   "outputs": [],
   "source": [
    "# %time sampled_tag_info_df['img_path_new'] = sampled_tag_info_df[['img_path','face_rect']].apply(img_path_to_pixel, axis=1)"
   ]
  },
  {
   "cell_type": "code",
   "execution_count": 75,
   "metadata": {},
   "outputs": [
    {
     "name": "stdout",
     "output_type": "stream",
     "text": [
      "CPU times: user 45.4 ms, sys: 373 ms, total: 419 ms\n",
      "Wall time: 894 ms\n"
     ]
    }
   ],
   "source": [
    "%time sampled_tag_info_df['img_path_new'] = multi_process(sampled_tag_info_df, multi_process_sub)"
   ]
  },
  {
   "cell_type": "code",
   "execution_count": 76,
   "metadata": {},
   "outputs": [],
   "source": [
    "# 이상 데이터 drop\n",
    "sampled_tag_info_df = sampled_tag_info_df.dropna().reset_index(drop=True)"
   ]
  },
  {
   "cell_type": "code",
   "execution_count": 91,
   "metadata": {},
   "outputs": [
    {
     "data": {
      "text/plain": [
       "<matplotlib.image.AxesImage at 0x7f951e531668>"
      ]
     },
     "execution_count": 91,
     "metadata": {},
     "output_type": "execute_result"
    },
    {
     "data": {
      "image/png": "[encoded data removed]",
      "text/plain": [
       "<Figure size 432x288 with 1 Axes>"
      ]
     },
     "metadata": {
      "needs_background": "light"
     },
     "output_type": "display_data"
    }
   ],
   "source": [
    "plt.imshow(np.asarray(sampled_tag_info_df.loc[0]['img_path_new'].split(' ')).astype(int).reshape((48,48)), 'gray')"
   ]
  },
  {
   "cell_type": "code",
   "execution_count": 78,
   "metadata": {},
   "outputs": [],
   "source": [
    "sampled_tag_info_df['img_path'] = sampled_tag_info_df['img_path_new']\n",
    "prep_tag_info_df = sampled_tag_info_df.drop(['img_path_new', 'face_rect'], axis=1)"
   ]
  },
  {
   "cell_type": "code",
   "execution_count": 79,
   "metadata": {},
   "outputs": [
    {
     "data": {
      "text/html": [
       "<div>\n",
       "<style scoped>\n",
       "    .dataframe tbody tr th:only-of-type {\n",
       "        vertical-align: middle;\n",
       "    }\n",
       "\n",
       "    .dataframe tbody tr th {\n",
       "        vertical-align: top;\n",
       "    }\n",
       "\n",
       "    .dataframe thead th {\n",
       "        text-align: right;\n",
       "    }\n",
       "</style>\n",
       "<table border=\"1\" class=\"dataframe\">\n",
       "  <thead>\n",
       "    <tr style=\"text-align: right;\">\n",
       "      <th></th>\n",
       "      <th>emotion</th>\n",
       "      <th>img_path</th>\n",
       "    </tr>\n",
       "  </thead>\n",
       "  <tbody>\n",
       "    <tr>\n",
       "      <th>0</th>\n",
       "      <td>afraid</td>\n",
       "      <td>85 89 98 96 83 73 59 43 30 26 25 24 28 29 26 2...</td>\n",
       "    </tr>\n",
       "    <tr>\n",
       "      <th>1</th>\n",
       "      <td>afraid</td>\n",
       "      <td>89 88 84 86 84 75 51 45 34 35 38 40 38 31 32 5...</td>\n",
       "    </tr>\n",
       "    <tr>\n",
       "      <th>2</th>\n",
       "      <td>afraid</td>\n",
       "      <td>72 70 78 74 73 61 45 42 37 37 36 38 45 73 57 4...</td>\n",
       "    </tr>\n",
       "    <tr>\n",
       "      <th>3</th>\n",
       "      <td>afraid</td>\n",
       "      <td>72 70 68 76 77 76 58 48 47 44 36 29 42 72 49 3...</td>\n",
       "    </tr>\n",
       "    <tr>\n",
       "      <th>4</th>\n",
       "      <td>afraid</td>\n",
       "      <td>77 80 81 71 54 47 43 40 35 34 51 79 48 44 50 5...</td>\n",
       "    </tr>\n",
       "  </tbody>\n",
       "</table>\n",
       "</div>"
      ],
      "text/plain": [
       "  emotion                                           img_path\n",
       "0  afraid  85 89 98 96 83 73 59 43 30 26 25 24 28 29 26 2...\n",
       "1  afraid  89 88 84 86 84 75 51 45 34 35 38 40 38 31 32 5...\n",
       "2  afraid  72 70 78 74 73 61 45 42 37 37 36 38 45 73 57 4...\n",
       "3  afraid  72 70 68 76 77 76 58 48 47 44 36 29 42 72 49 3...\n",
       "4  afraid  77 80 81 71 54 47 43 40 35 34 51 79 48 44 50 5..."
      ]
     },
     "execution_count": 79,
     "metadata": {},
     "output_type": "execute_result"
    }
   ],
   "source": [
    "prep_tag_info_df.head()"
   ]
  },
  {
   "cell_type": "markdown",
   "metadata": {},
   "source": [
    "## 전처리 step 2\n",
    "\n",
    "* CSV dataset file 생성\n",
    "    * 포멧: emotion\n",
    "    * emotion mapping\n",
    "        * ASIS: 8 Catogory ('happiness', 'afraid', 'neutral', 'surprise', 'sadness', 'contempt', 'anger', 'disgust')\n",
    "        * TO: 7 Category  (0=Angry, 1=Disgust, 2=Fear, 3=Happy, 4=Sad, 5=Surprise, 6=Neutral)\n",
    "        * mapped Category: 0=anger, 1=disgust&contempt, 2=afraid, 3=happiness, 4=sadness, 5=surprise, 6=neutral"
   ]
  },
  {
   "cell_type": "code",
   "execution_count": 80,
   "metadata": {},
   "outputs": [],
   "source": [
    "def emotion_mapping(emotion):\n",
    "    if emotion == 'anger':\n",
    "        return 0\n",
    "    elif emotion == 'disgust' or emotion == 'contempt':\n",
    "        return 1\n",
    "    elif emotion == 'afraid':\n",
    "        return 2\n",
    "    elif emotion == 'happiness':\n",
    "        return 3\n",
    "    elif emotion == 'sadness':\n",
    "        return 4\n",
    "    elif emotion == 'surprise':\n",
    "        return 5\n",
    "    elif emotion == 'neutral':\n",
    "        return 6\n",
    "    else:\n",
    "        return 6\n",
    "        \n",
    "\n",
    "prep_tag_info_df['mapped_emotion'] = prep_tag_info_df['emotion'].map(emotion_mapping)"
   ]
  },
  {
   "cell_type": "code",
   "execution_count": 81,
   "metadata": {},
   "outputs": [
    {
     "data": {
      "text/plain": [
       "5    20\n",
       "3    20\n",
       "2    20\n",
       "0    20\n",
       "6    19\n",
       "4    15\n",
       "1    15\n",
       "Name: mapped_emotion, dtype: int64"
      ]
     },
     "execution_count": 81,
     "metadata": {},
     "output_type": "execute_result"
    }
   ],
   "source": [
    "prep_tag_info_df['mapped_emotion'].value_counts()"
   ]
  },
  {
   "cell_type": "code",
   "execution_count": 82,
   "metadata": {},
   "outputs": [
    {
     "data": {
      "text/html": [
       "<div>\n",
       "<style scoped>\n",
       "    .dataframe tbody tr th:only-of-type {\n",
       "        vertical-align: middle;\n",
       "    }\n",
       "\n",
       "    .dataframe tbody tr th {\n",
       "        vertical-align: top;\n",
       "    }\n",
       "\n",
       "    .dataframe thead th {\n",
       "        text-align: right;\n",
       "    }\n",
       "</style>\n",
       "<table border=\"1\" class=\"dataframe\">\n",
       "  <thead>\n",
       "    <tr style=\"text-align: right;\">\n",
       "      <th></th>\n",
       "      <th>emotion</th>\n",
       "      <th>img_path</th>\n",
       "    </tr>\n",
       "  </thead>\n",
       "  <tbody>\n",
       "    <tr>\n",
       "      <th>0</th>\n",
       "      <td>2</td>\n",
       "      <td>85 89 98 96 83 73 59 43 30 26 25 24 28 29 26 2...</td>\n",
       "    </tr>\n",
       "    <tr>\n",
       "      <th>1</th>\n",
       "      <td>2</td>\n",
       "      <td>89 88 84 86 84 75 51 45 34 35 38 40 38 31 32 5...</td>\n",
       "    </tr>\n",
       "    <tr>\n",
       "      <th>2</th>\n",
       "      <td>2</td>\n",
       "      <td>72 70 78 74 73 61 45 42 37 37 36 38 45 73 57 4...</td>\n",
       "    </tr>\n",
       "    <tr>\n",
       "      <th>3</th>\n",
       "      <td>2</td>\n",
       "      <td>72 70 68 76 77 76 58 48 47 44 36 29 42 72 49 3...</td>\n",
       "    </tr>\n",
       "    <tr>\n",
       "      <th>4</th>\n",
       "      <td>2</td>\n",
       "      <td>77 80 81 71 54 47 43 40 35 34 51 79 48 44 50 5...</td>\n",
       "    </tr>\n",
       "  </tbody>\n",
       "</table>\n",
       "</div>"
      ],
      "text/plain": [
       "   emotion                                           img_path\n",
       "0        2  85 89 98 96 83 73 59 43 30 26 25 24 28 29 26 2...\n",
       "1        2  89 88 84 86 84 75 51 45 34 35 38 40 38 31 32 5...\n",
       "2        2  72 70 78 74 73 61 45 42 37 37 36 38 45 73 57 4...\n",
       "3        2  72 70 68 76 77 76 58 48 47 44 36 29 42 72 49 3...\n",
       "4        2  77 80 81 71 54 47 43 40 35 34 51 79 48 44 50 5..."
      ]
     },
     "execution_count": 82,
     "metadata": {},
     "output_type": "execute_result"
    }
   ],
   "source": [
    "prep_tag_info_df['emotion'] = prep_tag_info_df['mapped_emotion']\n",
    "prep_tag_info_df = prep_tag_info_df.drop(['mapped_emotion'], axis=1)\n",
    "prep_tag_info_df.head()"
   ]
  },
  {
   "cell_type": "code",
   "execution_count": null,
   "metadata": {},
   "outputs": [],
   "source": [
    "!ls -alh ../datasets/kor_multi_modal/"
   ]
  },
  {
   "cell_type": "code",
   "execution_count": null,
   "metadata": {},
   "outputs": [],
   "source": [
    "prep_tag_info_df.to_csv(prep_trainset_path, index=False)"
   ]
  },
  {
   "cell_type": "code",
   "execution_count": null,
   "metadata": {},
   "outputs": [],
   "source": [
    "tmp_df = pd.read_csv(prep_trainset_path)"
   ]
  },
  {
   "cell_type": "code",
   "execution_count": null,
   "metadata": {},
   "outputs": [],
   "source": [
    "tmp_df.head()"
   ]
  },
  {
   "cell_type": "code",
   "execution_count": 90,
   "metadata": {},
   "outputs": [
    {
     "name": "stdout",
     "output_type": "stream",
     "text": [
      "total 1.9G\r\n",
      "drwxr-xr-x 3 root root  157 Jul  6 19:15 .\r\n",
      "drwxr-xr-x 4 root root  104 Jun 30 09:50 ..\r\n",
      "drwxr-xr-x 2 root root  12K Jun 30 09:50 part1\r\n",
      "-rw-r--r-- 1 root root 240M Jul  6 18:18 prep_part1.csv\r\n",
      "-rw-r--r-- 1 root root 415M Jul  6 18:31 prep_part2.csv\r\n",
      "-rw-r--r-- 1 root root 464M Jul  6 18:38 prep_part3.csv\r\n",
      "-rw-r--r-- 1 root root 476M Jul  6 18:42 prep_part4.csv\r\n",
      "-rw-r--r-- 1 root root 267M Jul  6 19:15 prep_part5.csv\r\n"
     ]
    }
   ],
   "source": [
    "!ls -alh ../datasets/kor_multi_modal/"
   ]
  },
  {
   "cell_type": "code",
   "execution_count": null,
   "metadata": {},
   "outputs": [],
   "source": []
  }
 ],
 "metadata": {
  "kernelspec": {
   "display_name": "rt-face-detect",
   "language": "python",
   "name": "rt-face-detect"
  },
  "language_info": {
   "codemirror_mode": {
    "name": "ipython",
    "version": 3
   },
   "file_extension": ".py",
   "mimetype": "text/x-python",
   "name": "python",
   "nbconvert_exporter": "python",
   "pygments_lexer": "ipython3",
   "version": "3.5.2"
  }
 },
 "nbformat": 4,
 "nbformat_minor": 2
}
